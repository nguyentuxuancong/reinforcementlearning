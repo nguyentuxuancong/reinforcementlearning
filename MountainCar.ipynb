{
 "cells": [
  {
   "cell_type": "code",
   "execution_count": 1,
   "id": "50d46c44-afb6-41d7-857c-30cf574f6cfd",
   "metadata": {},
   "outputs": [],
   "source": [
    "import gym\n",
    "import time\n",
    "import numpy as np\n",
    "import IPython.display\n",
    "from tqdm.notebook import tqdm\n",
    "import torch\n",
    "import torch.nn as nn\n",
    "import torch.optim as optim"
   ]
  },
  {
   "cell_type": "code",
   "execution_count": 2,
   "id": "eed1c7f9-0a90-435c-9fec-cfb5457c37ac",
   "metadata": {},
   "outputs": [],
   "source": [
    "env = gym.make('MountainCar-v0')"
   ]
  },
  {
   "cell_type": "code",
   "execution_count": 8,
   "id": "97f41538-532b-4875-b6f2-8e1e39b5a61a",
   "metadata": {},
   "outputs": [],
   "source": [
    "# reset to starting State\n",
    "s = env.reset()\n",
    "action_list = list(range(env.action_space.n))\n",
    "while True:\n",
    "    a = np.random.choice(action_list)   # random an action\n",
    "    s, r, done, _ = env.step(a)      # perform action, get state, reward, is terminated\n",
    "    if done:\n",
    "        break\n",
    "    env.render()\n",
    "    time.sleep(0.05)"
   ]
  },
  {
   "cell_type": "code",
   "execution_count": 9,
   "id": "2880c288-48a6-4fb4-a26f-17be8f27fe18",
   "metadata": {},
   "outputs": [],
   "source": [
    "class NBinDiscretizer:\n",
    "    def __init__(self, min_val, max_val, nbins):\n",
    "        self.min_val = min_val\n",
    "        self.max_val = max_val\n",
    "        self.step = (max_val - min_val) / nbins\n",
    "        self.nbins = int(nbins)\n",
    "    def __call__(self, val):\n",
    "        return int(round((val - self.min_val) / self.step)) % self.nbins"
   ]
  },
  {
   "cell_type": "code",
   "execution_count": 10,
   "id": "794afa96-25b4-401e-b25a-4d6b3e465ab2",
   "metadata": {},
   "outputs": [],
   "source": [
    "class Dicretezation:\n",
    "    def __init__(self, discretezers):\n",
    "        self.discretezers = discretezers\n",
    "    def __getitem__(self, index):\n",
    "        assert len(index) == len(self.discretezers)\n",
    "        return tuple([self.discretezers[i](index[i]) for i in range(len(index))])"
   ]
  },
  {
   "cell_type": "code",
   "execution_count": 15,
   "id": "4d6091f3-e776-4d7d-98e4-2e48946f360b",
   "metadata": {},
   "outputs": [],
   "source": [
    "lr = 0.1\n",
    "gamma = 0.9"
   ]
  },
  {
   "cell_type": "code",
   "execution_count": 17,
   "id": "d43770f7-3a3b-40b0-b846-5ff56d3ca346",
   "metadata": {},
   "outputs": [],
   "source": [
    "n_quantization = 50\n",
    "x_quantizer = NBinDiscretizer(env.observation_space.low[0], env.observation_space.high[0], n_quantization)\n",
    "v_quantizer = NBinDiscretizer(env.observation_space.low[0], env.observation_space.high[0], n_quantization)\n",
    "state_quantizer = Dicretezation([x_quantizer, v_quantizer])"
   ]
  },
  {
   "cell_type": "code",
   "execution_count": 18,
   "id": "92a96979-8bab-4ecd-8b1b-3acd205705b4",
   "metadata": {},
   "outputs": [],
   "source": [
    "Q = np.zeros((n_quantization, n_quantization, 3))"
   ]
  },
  {
   "cell_type": "code",
   "execution_count": 20,
   "id": "22625a48-9e25-4302-a400-087611b2eaf9",
   "metadata": {},
   "outputs": [
    {
     "data": {
      "text/plain": [
       "'epoch 9999: ep_reward: -200.000000, max_reward: -132.000000, ep_max_pos: 0.106835, max_pos: 0.524181, epsilon: 0.000000'"
      ]
     },
     "metadata": {},
     "output_type": "display_data"
    },
    {
     "data": {
      "text/plain": [
       "'Reach goal at epoch 9997 with reward: -165.0'"
      ]
     },
     "metadata": {},
     "output_type": "display_data"
    },
    {
     "data": {
      "application/vnd.jupyter.widget-view+json": {
       "model_id": "fb0bbc7bb2ad446a9a0714f7f6180f24",
       "version_major": 2,
       "version_minor": 0
      },
      "text/plain": [
       "Epoch:   0%|          | 0/10000 [00:00<?, ?it/s]"
      ]
     },
     "metadata": {},
     "output_type": "display_data"
    }
   ],
   "source": [
    "# inititalize some variables\n",
    "epochs = 10000\n",
    "epsilon = 0.9\n",
    "epsilon_scale = epsilon / (epochs / 4)\n",
    "\n",
    "# some metrics\n",
    "max_reward = -1000\n",
    "max_pos = -1000\n",
    "\n",
    "# logging\n",
    "log = display('', display_id=True)\n",
    "reach_log = display('', display_id=True)\n",
    "\n",
    "for epoch in tqdm(range(epochs), desc=\"Epoch\"):\n",
    "    ep_max_pos = -1000\n",
    "    ep_reward = 0\n",
    "    \n",
    "    # reset environment\n",
    "    obs = env.reset()\n",
    "    done = False\n",
    "\n",
    "    while not done:\n",
    "        \n",
    "        # take an action\n",
    "        if np.random.random_sample() > epsilon:\n",
    "            a = np.argmax(Q[state_quantizer[obs]])\n",
    "        else:\n",
    "            a = np.random.randint(0, env.action_space.n)\n",
    "        \n",
    "        # perform action\n",
    "        new_obs, r, done, info = env.step(a)\n",
    "        ep_reward += r\n",
    "        \n",
    "        if new_obs[0] >= env.goal_position:\n",
    "            reach_log.update(f\"Reach goal at epoch {epoch} with reward: {ep_reward}\")\n",
    "        # update Q\n",
    "        cur_q_value = Q[state_quantizer[obs]][a]        \n",
    "        new_q_value = (1-lr) * cur_q_value + lr * (r + gamma * max(Q[state_quantizer[new_obs]]))\n",
    "        Q[state_quantizer[obs]][a] = new_q_value\n",
    "        obs = new_obs\n",
    "        ep_max_pos = max(obs[0], ep_max_pos)\n",
    "        \n",
    "    max_reward = max(ep_reward, max_reward)\n",
    "    max_pos = max(ep_max_pos, max_pos)\n",
    "    epsilon = max(0, epsilon - epsilon_scale)\n",
    "    \n",
    "    log.update(\"epoch {}: ep_reward: {:9.6f}, max_reward: {:9.6f}, ep_max_pos: {:.6f}, max_pos: {:.6f}, epsilon: {:.6f}\".format(epoch, ep_reward, max_reward, ep_max_pos, max_pos, epsilon))"
   ]
  }
 ],
 "metadata": {
  "kernelspec": {
   "display_name": "RL (py38)",
   "language": "python",
   "name": "rl"
  },
  "language_info": {
   "codemirror_mode": {
    "name": "ipython",
    "version": 3
   },
   "file_extension": ".py",
   "mimetype": "text/x-python",
   "name": "python",
   "nbconvert_exporter": "python",
   "pygments_lexer": "ipython3",
   "version": "3.8.13"
  }
 },
 "nbformat": 4,
 "nbformat_minor": 5
}
